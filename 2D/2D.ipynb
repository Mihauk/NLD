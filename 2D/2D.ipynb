{
 "cells": [
  {
   "cell_type": "code",
   "execution_count": 1,
   "metadata": {},
   "outputs": [],
   "source": [
    " #import sys\n",
    "import copy\n",
    "import time\n",
    "import argparse\n",
    "import numpy as np\n",
    "#from tqdm import tqdm\n",
    "#import itertools as its\n",
    "import toolz.itertoolz as itz\n",
    "#from matplotlib import pyplot as plt\n",
    "from joblib import Parallel , delayed"
   ]
  },
  {
   "cell_type": "code",
   "execution_count": 2,
   "metadata": {},
   "outputs": [],
   "source": [
    "lx = 2\n",
    "ly = 4"
   ]
  },
  {
   "cell_type": "code",
   "execution_count": 3,
   "metadata": {},
   "outputs": [],
   "source": [
    "def partition(a):    \n",
    "    part = []\n",
    "    for i in range(0,lx,2):\n",
    "        for j in range(0,ly,2):\n",
    "            part.append([a[i%lx,j%ly],a[i%lx,(j+1)%ly],a[(i+1)%lx,j%ly],a[(i+1)%lx,(j+1)%ly]])\n",
    "    return np.asarray(part)"
   ]
  },
  {
   "cell_type": "code",
   "execution_count": 4,
   "metadata": {},
   "outputs": [],
   "source": [
    "def combine(a):\n",
    "    c = np.zeros((lx,ly))\n",
    "    p = 0\n",
    "    for k in range(int(lx/2)):\n",
    "        for j in range(0,4,2):\n",
    "            com = []\n",
    "            [com.append([a[(i+k*int(ly/2))%lx,j],a[(i+k*int(ly/2))%lx,j+1]])  for i in range(0,int(ly/2))]\n",
    "            c[p,:] = np.asarray(com).flatten()\n",
    "            p+=1\n",
    "    return c"
   ]
  },
  {
   "cell_type": "code",
   "execution_count": 5,
   "metadata": {},
   "outputs": [],
   "source": [
    "def tetra_update(tetramer):\n",
    "    if tetramer == [1,0,0,0]:\n",
    "        return [[0,1,0,0],[0,0,1,0], [0,0,0,1]][np.random.randint(3)]\n",
    "    elif tetramer == [0,1,0,0]:\n",
    "        return [[1,0,0,0],[0,0,1,0], [0,0,0,1]][np.random.randint(3)]\n",
    "    elif tetramer == [0,0,1,0]:\n",
    "        return [[1,0,0,0],[0,1,0,0], [0,0,0,1]][np.random.randint(3)]\n",
    "    elif tetramer == [0,0,0,1]:\n",
    "        return [[1,0,0,0],[0,1,0,0], [0,0,1,0]][np.random.randint(3)]\n",
    "    return(tetramer)"
   ]
  },
  {
   "cell_type": "code",
   "execution_count": 6,
   "metadata": {},
   "outputs": [],
   "source": [
    "a = np.random.randint(2,size=(lx,ly))"
   ]
  },
  {
   "cell_type": "code",
   "execution_count": 7,
   "metadata": {},
   "outputs": [
    {
     "data": {
      "text/plain": [
       "array([[0, 0, 0, 0],\n",
       "       [0, 0, 1, 0]])"
      ]
     },
     "execution_count": 7,
     "metadata": {},
     "output_type": "execute_result"
    }
   ],
   "source": [
    "a"
   ]
  },
  {
   "cell_type": "code",
   "execution_count": 8,
   "metadata": {},
   "outputs": [],
   "source": [
    "bi_x, bi_y = np.random.randint(lx), np.random.randint(ly)\n",
    "rolled = np.roll(np.roll(a,bi_x,axis=0),bi_y,axis=1)\n"
   ]
  },
  {
   "cell_type": "code",
   "execution_count": 9,
   "metadata": {},
   "outputs": [
    {
     "data": {
      "text/plain": [
       "array([[0, 0, 0, 0],\n",
       "       [0, 0, 0, 1]])"
      ]
     },
     "execution_count": 9,
     "metadata": {},
     "output_type": "execute_result"
    }
   ],
   "source": [
    "rolled"
   ]
  },
  {
   "cell_type": "code",
   "execution_count": 10,
   "metadata": {},
   "outputs": [
    {
     "data": {
      "text/plain": [
       "array([[0, 0, 0, 0],\n",
       "       [0, 0, 1, 0]])"
      ]
     },
     "execution_count": 10,
     "metadata": {},
     "output_type": "execute_result"
    }
   ],
   "source": [
    "np.roll(np.roll(rolled,-bi_y,axis=1),-bi_x,axis=0)"
   ]
  },
  {
   "cell_type": "code",
   "execution_count": 11,
   "metadata": {},
   "outputs": [],
   "source": [
    "par_st = partition(np.roll(np.roll(a,bi_x,axis=0),bi_y,axis=1))"
   ]
  },
  {
   "cell_type": "code",
   "execution_count": 12,
   "metadata": {},
   "outputs": [
    {
     "data": {
      "text/plain": [
       "(0, 1)"
      ]
     },
     "execution_count": 12,
     "metadata": {},
     "output_type": "execute_result"
    }
   ],
   "source": [
    "bi_x, bi_y"
   ]
  },
  {
   "cell_type": "code",
   "execution_count": 13,
   "metadata": {},
   "outputs": [
    {
     "data": {
      "text/plain": [
       "array([[0, 0, 0, 0],\n",
       "       [0, 0, 0, 1]])"
      ]
     },
     "execution_count": 13,
     "metadata": {},
     "output_type": "execute_result"
    }
   ],
   "source": [
    "par_st"
   ]
  },
  {
   "cell_type": "code",
   "execution_count": 14,
   "metadata": {},
   "outputs": [],
   "source": [
    "comb = combine(par_st)"
   ]
  },
  {
   "cell_type": "code",
   "execution_count": 15,
   "metadata": {},
   "outputs": [
    {
     "data": {
      "text/plain": [
       "array([[0., 0., 0., 0.],\n",
       "       [0., 0., 0., 1.]])"
      ]
     },
     "execution_count": 15,
     "metadata": {},
     "output_type": "execute_result"
    }
   ],
   "source": [
    "comb"
   ]
  },
  {
   "cell_type": "code",
   "execution_count": 16,
   "metadata": {},
   "outputs": [
    {
     "data": {
      "text/plain": [
       "array([[0., 0., 0., 0.],\n",
       "       [0., 0., 1., 0.]])"
      ]
     },
     "execution_count": 16,
     "metadata": {},
     "output_type": "execute_result"
    }
   ],
   "source": [
    "np.roll(np.roll(comb,-bi_y,axis=1),-bi_x,axis=0)\n"
   ]
  },
  {
   "cell_type": "code",
   "execution_count": 17,
   "metadata": {},
   "outputs": [
    {
     "data": {
      "text/plain": [
       "array([[0, 0, 0, 0],\n",
       "       [0, 0, 1, 0]])"
      ]
     },
     "execution_count": 17,
     "metadata": {},
     "output_type": "execute_result"
    }
   ],
   "source": [
    "a"
   ]
  },
  {
   "cell_type": "code",
   "execution_count": 19,
   "metadata": {},
   "outputs": [
    {
     "ename": "IndexError",
     "evalue": "too many indices for array: array is 0-dimensional, but 2 were indexed",
     "output_type": "error",
     "traceback": [
      "\u001b[0;31m---------------------------------------------------------------------------\u001b[0m",
      "\u001b[0;31mIndexError\u001b[0m                                Traceback (most recent call last)",
      "Cell \u001b[0;32mIn[19], line 1\u001b[0m\n\u001b[0;32m----> 1\u001b[0m np\u001b[38;5;241m.\u001b[39mroll(np\u001b[38;5;241m.\u001b[39mroll(combine(np\u001b[38;5;241m.\u001b[39masarray(\u001b[38;5;28mmap\u001b[39m(tetra_update,par_st))),\u001b[38;5;241m-\u001b[39mbi_y,axis\u001b[38;5;241m=\u001b[39m\u001b[38;5;241m1\u001b[39m),\u001b[38;5;241m-\u001b[39mbi_x,axis\u001b[38;5;241m=\u001b[39m\u001b[38;5;241m0\u001b[39m)\n",
      "Cell \u001b[0;32mIn[4], line 7\u001b[0m, in \u001b[0;36mcombine\u001b[0;34m(a)\u001b[0m\n\u001b[1;32m      5\u001b[0m \u001b[38;5;28;01mfor\u001b[39;00m j \u001b[38;5;129;01min\u001b[39;00m \u001b[38;5;28mrange\u001b[39m(\u001b[38;5;241m0\u001b[39m,\u001b[38;5;241m4\u001b[39m,\u001b[38;5;241m2\u001b[39m):\n\u001b[1;32m      6\u001b[0m     com \u001b[38;5;241m=\u001b[39m []\n\u001b[0;32m----> 7\u001b[0m     [com\u001b[38;5;241m.\u001b[39mappend([a[(i\u001b[38;5;241m+\u001b[39mk\u001b[38;5;241m*\u001b[39m\u001b[38;5;28mint\u001b[39m(ly\u001b[38;5;241m/\u001b[39m\u001b[38;5;241m2\u001b[39m))\u001b[38;5;241m%\u001b[39mlx,j],a[(i\u001b[38;5;241m+\u001b[39mk\u001b[38;5;241m*\u001b[39m\u001b[38;5;28mint\u001b[39m(ly\u001b[38;5;241m/\u001b[39m\u001b[38;5;241m2\u001b[39m))\u001b[38;5;241m%\u001b[39mlx,j\u001b[38;5;241m+\u001b[39m\u001b[38;5;241m1\u001b[39m]])  \u001b[38;5;28;01mfor\u001b[39;00m i \u001b[38;5;129;01min\u001b[39;00m \u001b[38;5;28mrange\u001b[39m(\u001b[38;5;241m0\u001b[39m,\u001b[38;5;28mint\u001b[39m(ly\u001b[38;5;241m/\u001b[39m\u001b[38;5;241m2\u001b[39m))]\n\u001b[1;32m      8\u001b[0m     c[p,:] \u001b[38;5;241m=\u001b[39m np\u001b[38;5;241m.\u001b[39masarray(com)\u001b[38;5;241m.\u001b[39mflatten()\n\u001b[1;32m      9\u001b[0m     p\u001b[38;5;241m+\u001b[39m\u001b[38;5;241m=\u001b[39m\u001b[38;5;241m1\u001b[39m\n",
      "Cell \u001b[0;32mIn[4], line 7\u001b[0m, in \u001b[0;36m<listcomp>\u001b[0;34m(.0)\u001b[0m\n\u001b[1;32m      5\u001b[0m \u001b[38;5;28;01mfor\u001b[39;00m j \u001b[38;5;129;01min\u001b[39;00m \u001b[38;5;28mrange\u001b[39m(\u001b[38;5;241m0\u001b[39m,\u001b[38;5;241m4\u001b[39m,\u001b[38;5;241m2\u001b[39m):\n\u001b[1;32m      6\u001b[0m     com \u001b[38;5;241m=\u001b[39m []\n\u001b[0;32m----> 7\u001b[0m     [com\u001b[38;5;241m.\u001b[39mappend([a[(i\u001b[38;5;241m+\u001b[39mk\u001b[38;5;241m*\u001b[39m\u001b[38;5;28mint\u001b[39m(ly\u001b[38;5;241m/\u001b[39m\u001b[38;5;241m2\u001b[39m))\u001b[38;5;241m%\u001b[39mlx,j],a[(i\u001b[38;5;241m+\u001b[39mk\u001b[38;5;241m*\u001b[39m\u001b[38;5;28mint\u001b[39m(ly\u001b[38;5;241m/\u001b[39m\u001b[38;5;241m2\u001b[39m))\u001b[38;5;241m%\u001b[39mlx,j\u001b[38;5;241m+\u001b[39m\u001b[38;5;241m1\u001b[39m]])  \u001b[38;5;28;01mfor\u001b[39;00m i \u001b[38;5;129;01min\u001b[39;00m \u001b[38;5;28mrange\u001b[39m(\u001b[38;5;241m0\u001b[39m,\u001b[38;5;28mint\u001b[39m(ly\u001b[38;5;241m/\u001b[39m\u001b[38;5;241m2\u001b[39m))]\n\u001b[1;32m      8\u001b[0m     c[p,:] \u001b[38;5;241m=\u001b[39m np\u001b[38;5;241m.\u001b[39masarray(com)\u001b[38;5;241m.\u001b[39mflatten()\n\u001b[1;32m      9\u001b[0m     p\u001b[38;5;241m+\u001b[39m\u001b[38;5;241m=\u001b[39m\u001b[38;5;241m1\u001b[39m\n",
      "\u001b[0;31mIndexError\u001b[0m: too many indices for array: array is 0-dimensional, but 2 were indexed"
     ]
    }
   ],
   "source": [
    "np.roll(np.roll(combine(np.asarray(map(tetra_update,par_st))),-bi_y,axis=1),-bi_x,axis=0)"
   ]
  },
  {
   "cell_type": "code",
   "execution_count": 22,
   "metadata": {},
   "outputs": [
    {
     "ename": "ValueError",
     "evalue": "The truth value of an array with more than one element is ambiguous. Use a.any() or a.all()",
     "output_type": "error",
     "traceback": [
      "\u001b[0;31m---------------------------------------------------------------------------\u001b[0m",
      "\u001b[0;31mValueError\u001b[0m                                Traceback (most recent call last)",
      "Cell \u001b[0;32mIn[22], line 1\u001b[0m\n\u001b[0;32m----> 1\u001b[0m \u001b[38;5;28mlist\u001b[39m(\u001b[38;5;28mmap\u001b[39m(tetra_update,par_st))\n",
      "Cell \u001b[0;32mIn[5], line 2\u001b[0m, in \u001b[0;36mtetra_update\u001b[0;34m(tetramer)\u001b[0m\n\u001b[1;32m      1\u001b[0m \u001b[38;5;28;01mdef\u001b[39;00m \u001b[38;5;21mtetra_update\u001b[39m(tetramer):\n\u001b[0;32m----> 2\u001b[0m     \u001b[38;5;28;01mif\u001b[39;00m tetramer \u001b[38;5;241m==\u001b[39m [\u001b[38;5;241m1\u001b[39m,\u001b[38;5;241m0\u001b[39m,\u001b[38;5;241m0\u001b[39m,\u001b[38;5;241m0\u001b[39m]:\n\u001b[1;32m      3\u001b[0m         \u001b[38;5;28;01mreturn\u001b[39;00m [[\u001b[38;5;241m0\u001b[39m,\u001b[38;5;241m1\u001b[39m,\u001b[38;5;241m0\u001b[39m,\u001b[38;5;241m0\u001b[39m],[\u001b[38;5;241m0\u001b[39m,\u001b[38;5;241m0\u001b[39m,\u001b[38;5;241m1\u001b[39m,\u001b[38;5;241m0\u001b[39m], [\u001b[38;5;241m0\u001b[39m,\u001b[38;5;241m0\u001b[39m,\u001b[38;5;241m0\u001b[39m,\u001b[38;5;241m1\u001b[39m]][np\u001b[38;5;241m.\u001b[39mrandom\u001b[38;5;241m.\u001b[39mrandint(\u001b[38;5;241m3\u001b[39m)]\n\u001b[1;32m      4\u001b[0m     \u001b[38;5;28;01melif\u001b[39;00m tetramer \u001b[38;5;241m==\u001b[39m [\u001b[38;5;241m0\u001b[39m,\u001b[38;5;241m1\u001b[39m,\u001b[38;5;241m0\u001b[39m,\u001b[38;5;241m0\u001b[39m]:\n",
      "\u001b[0;31mValueError\u001b[0m: The truth value of an array with more than one element is ambiguous. Use a.any() or a.all()"
     ]
    }
   ],
   "source": [
    "list(map(tetra_update,par_st))"
   ]
  },
  {
   "cell_type": "code",
   "execution_count": null,
   "metadata": {},
   "outputs": [],
   "source": [
    "np.roll(np.roll(list(map(tetra_update,par_st)),-bi_y,axis=1),-bi_x,axis=0)\n"
   ]
  },
  {
   "cell_type": "code",
   "execution_count": null,
   "metadata": {},
   "outputs": [],
   "source": [
    "np.roll(np.roll(map(tetra_update,par_st),-bi_x,axis=0),-bi_y,axis=1)\n"
   ]
  },
  {
   "cell_type": "code",
   "execution_count": null,
   "metadata": {},
   "outputs": [],
   "source": []
  }
 ],
 "metadata": {
  "kernelspec": {
   "display_name": "Python 3",
   "language": "python",
   "name": "python3"
  },
  "language_info": {
   "codemirror_mode": {
    "name": "ipython",
    "version": 3
   },
   "file_extension": ".py",
   "mimetype": "text/x-python",
   "name": "python",
   "nbconvert_exporter": "python",
   "pygments_lexer": "ipython3",
   "version": "3.11.5"
  }
 },
 "nbformat": 4,
 "nbformat_minor": 2
}
