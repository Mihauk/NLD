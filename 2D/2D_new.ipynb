{
 "cells": [
  {
   "cell_type": "code",
   "execution_count": 1,
   "metadata": {},
   "outputs": [],
   "source": [
    "using FFTW\n",
    "using HDF5\n",
    "using Plots\n",
    "#using PyCall\n",
    "using Random\n",
    "using Measures\n",
    "using Statistics\n",
    "using LinearAlgebra\n",
    "using LaTeXStrings"
   ]
  },
  {
   "cell_type": "code",
   "execution_count": 2,
   "metadata": {},
   "outputs": [],
   "source": [
    "mutable struct Conf\n",
    "    st::BitMatrix\n",
    "end\n",
    "\n",
    "#mutable struct Total_data\n",
    "    #m_rho::Array{Float64, 3}\n",
    "    #v_rho::Vector{Float64}\n",
    "    #s_rho::Vector{Float64}\n",
    "    #k_rho::Vector{Float64}\n",
    "#end"
   ]
  },
  {
   "cell_type": "code",
   "execution_count": 3,
   "metadata": {},
   "outputs": [
    {
     "data": {
      "text/plain": [
       "partition (generic function with 1 method)"
      ]
     },
     "execution_count": 3,
     "metadata": {},
     "output_type": "execute_result"
    }
   ],
   "source": [
    "function partition(a)\n",
    "    part = []\n",
    "    [append!(part, [[a[i,j], a[i,j+1], a[i+1,j], a[i+1,j+1]]]) for i in 1:2:size(a)[1] for j in 1:2:size(a)[2]]\n",
    "    return part\n",
    "end"
   ]
  },
  {
   "cell_type": "code",
   "execution_count": 4,
   "metadata": {},
   "outputs": [
    {
     "data": {
      "text/plain": [
       "combine (generic function with 1 method)"
      ]
     },
     "execution_count": 4,
     "metadata": {},
     "output_type": "execute_result"
    }
   ],
   "source": [
    "function combine(a, lx, ly)\n",
    "    c = zeros(Bool, (lx,ly))\n",
    "    p = 1\n",
    "    for k in 1:convert(Int,lx/2)\n",
    "        for j in 1:2:4\n",
    "            com = []\n",
    "            [append!(com, [a[i+((k-1)*convert(Int,ly/2))][j], a[i+((k-1)*convert(Int,ly/2))][j+1]]) for i in 1:convert(Int,ly/2)]\n",
    "            c[p,:] = reduce(vcat,com)\n",
    "            p += 1\n",
    "        end\n",
    "    end\n",
    "    return c\n",
    "end"
   ]
  },
  {
   "cell_type": "code",
   "execution_count": null,
   "metadata": {},
   "outputs": [],
   "source": [
    "function tetra_update!(tetramers, p)\n",
    "    for j in eachindex(p)\n",
    "        if (tetramers[j][1]==1 && tetramers[j][2]==0 && tetramers[j][3]==0 && tetramers[j][4]==0)\n",
    "            @inbounds tetramers[j][1] = 0\n",
    "            @inbounds tetramers[j][2] = p[j]\n",
    "            @inbounds tetramers[j][3] = !p[j]\n",
    "        elseif (tetramers[j][1]==0 && tetramers[j][2]==1 && tetramers[j][3]==0 && tetramers[j][4]==0)\n",
    "            @inbounds tetramers[j][1] = p[j]\n",
    "            @inbounds tetramers[j][2] = 0\n",
    "            @inbounds tetramers[j][4] = !p[j]\n",
    "        elseif (tetramers[j][1]==0 && tetramers[j][2]==0 && tetramers[j][3]==1 && tetramers[j][4]==0)\n",
    "            @inbounds tetramers[j][1] = p[j]\n",
    "            @inbounds tetramers[j][4] = !p[j]\n",
    "            @inbounds tetramers[j][3] = 0\n",
    "        elseif (tetramers[j][1]==0 && tetramers[j][2]==0 && tetramers[j][3]==0 && tetramers[j][4]==1)\n",
    "            @inbounds tetramers[j][2] = p[j]\n",
    "            @inbounds tetramers[j][3] = !p[j]\n",
    "            @inbounds tetramers[j][4] = 0\n",
    "        #=\n",
    "        elseif (tetramers[j][1]==1 && tetramers[j][2]==1 && tetramers[j][3]==0 && tetramers[j][4]==0)\n",
    "            @inbounds tetramers[j][1] = 0\n",
    "            @inbounds tetramers[j][2] = 0\n",
    "            @inbounds tetramers[j][3] = 1\n",
    "            @inbounds tetramers[j][4] = 1\n",
    "        elseif (tetramers[j][1]==1 && tetramers[j][2]==0 && tetramers[j][3]==1 && tetramers[j][4]==0)\n",
    "            @inbounds tetramers[j][1] = 0\n",
    "            @inbounds tetramers[j][2] = 1\n",
    "            @inbounds tetramers[j][3] = 0\n",
    "            @inbounds tetramers[j][4] = 1\n",
    "        elseif (tetramers[j][1]==1 && tetramers[j][2]==0 && tetramers[j][3]==0 && tetramers[j][4]==1)\n",
    "            @inbounds tetramers[j][1] = 0\n",
    "            @inbounds tetramers[j][2] = 1\n",
    "            @inbounds tetramers[j][3] = 1\n",
    "            @inbounds tetramers[j][4] = 0\n",
    "        elseif (tetramers[j][1]==0 && tetramers[j][2]==1 && tetramers[j][3]==0 && tetramers[j][4]==1)\n",
    "            @inbounds tetramers[j][1] = 1\n",
    "            @inbounds tetramers[j][2] = 0\n",
    "            @inbounds tetramers[j][3] = 1\n",
    "            @inbounds tetramers[j][4] = 0\n",
    "        elseif (tetramers[j][1]==0 && tetramers[j][2]==0 && tetramers[j][3]==1 && tetramers[j][4]==1)\n",
    "            @inbounds tetramers[j][1] = 1\n",
    "            @inbounds tetramers[j][2] = 1\n",
    "            @inbounds tetramers[j][3] = 0\n",
    "            @inbounds tetramers[j][4] = 0\n",
    "        elseif (tetramers[j][1]==0 && tetramers[j][2]==1 && tetramers[j][3]==1 && tetramers[j][4]==0)\n",
    "            @inbounds tetramers[j][1] = 1\n",
    "            @inbounds tetramers[j][2] = 0\n",
    "            @inbounds tetramers[j][3] = 0\n",
    "            @inbounds tetramers[j][4] = 1\n",
    "            =#\n",
    "        end\n",
    "    end\n",
    "    return\n",
    "end"
   ]
  },
  {
   "cell_type": "code",
   "execution_count": 5,
   "metadata": {},
   "outputs": [
    {
     "data": {
      "text/plain": [
       "tetra_update (generic function with 1 method)"
      ]
     },
     "execution_count": 5,
     "metadata": {},
     "output_type": "execute_result"
    }
   ],
   "source": [
    "function tetra_update(tetramer)\n",
    "    if tetramer == [1,0,0,0]\n",
    "        return rand([[0,1,0,0], [0,0,1,0], [0,0,0,1]])\n",
    "    elseif tetramer == [0,1,0,0]\n",
    "        return rand([[1,0,0,0], [0,0,1,0], [0,0,0,1]])\n",
    "    elseif tetramer == [0,0,1,0]\n",
    "        return rand([[1,0,0,0],[ 0,1,0,0], [0,0,0,1]])\n",
    "    elseif tetramer == [0,0,0,1]\n",
    "        return rand([[1,0,0,0], [0,1,0,0], [0,0,1,0]])\n",
    "    end\n",
    "    return(tetramer)\n",
    "end"
   ]
  },
  {
   "cell_type": "code",
   "execution_count": 6,
   "metadata": {},
   "outputs": [
    {
     "data": {
      "text/plain": [
       "single_upd! (generic function with 1 method)"
      ]
     },
     "execution_count": 6,
     "metadata": {},
     "output_type": "execute_result"
    }
   ],
   "source": [
    "function single_upd!(conf, lx, ly)\n",
    "    off_x, off_y = rand(0:2), rand(0:2)\n",
    "    #p = rand(Bool,convert(Int,lx*ly/4))\n",
    "    conf.st = circshift(combine(map(tetra_update, partition(circshift(conf.st, (-off_x, -off_y)))), lx, ly), (off_x, off_y))\n",
    "    return\n",
    "end"
   ]
  },
  {
   "cell_type": "code",
   "execution_count": 7,
   "metadata": {},
   "outputs": [
    {
     "data": {
      "text/plain": [
       "with_threads (generic function with 1 method)"
      ]
     },
     "execution_count": 7,
     "metadata": {},
     "output_type": "execute_result"
    }
   ],
   "source": [
    "function with_threads(samples, tmax, lx, ly)\n",
    "    #rng = MersenneTwister()\n",
    "    #Random.seed!(rng, Threads.threadid())\n",
    "    n0 = 0.5\n",
    "    #Ax, Ay = 0.1, 0.1\n",
    "    A = 0.1\n",
    "    qx, qy = convert(Int,floor(lx/10)), convert(Int,floor(ly/5))\n",
    "    freq_x, freq_y = 2π * rfftfreq(lx), 2π * rfftfreq(ly)\n",
    "    Qx, Qy = freq_x[qx], freq_y[qy]\n",
    "    #A_x, A_y = cos.(Qx * (1:lx)), cos.(Qy * (1:ly))\n",
    "    A_xy =  cos.(Qx * (1:lx) .+ Qy * (1:ly)')\n",
    "    #rho_in = @. n0 + Ax * A_x + Ay *A_y'\n",
    "    rho_in = @. n0 + A * A_xy\n",
    "    #my_data = Total_data(zeros(Float64, tmax+1), zeros(Float64, tmax+1), zeros(Float64, tmax+1), zeros(Float64, tmax+1))\n",
    "    my_data = zeros(Float64, lx, ly, tmax+1)\n",
    "    for i in samples\n",
    "        #Random.seed!(rng, i)\n",
    "        my_conf = Conf(rand(Float64, (lx,ly)) .<= rho_in)\n",
    "        #rho_0 = sum(my_conf.st .* A_x .* A_y')/(lx*ly)\n",
    "        @inbounds my_data[:,:,1] .+= my_conf.st\n",
    "        #@inbounds my_data.m_rho[:,:,1] .+= rho_0\n",
    "        #@inbounds my_data.v_rho[1] += rho_0^2\n",
    "        #@inbounds my_data.s_rho[1] += rho_0^3\n",
    "        #@inbounds my_data.k_rho[1] += rho_0^4\n",
    "        for t in 1:tmax\n",
    "            single_upd!(my_conf, lx, ly)\n",
    "            #rho_t = sum(my_conf.st .* Ax)/l\n",
    "            @inbounds my_data[:,:,t+1] .+= my_conf.st\n",
    "            #@inbounds my_data.m_rho[:,:,t+1] .+= rho_t\n",
    "            #@inbounds my_data.v_rho[t+1] += rho_t^2\n",
    "            #@inbounds my_data.s_rho[t+1] += rho_t^3\n",
    "            #@inbounds my_data.k_rho[t+1] += rho_t^4\n",
    "        end\n",
    "    end\n",
    "    return my_data\n",
    "end"
   ]
  },
  {
   "cell_type": "code",
   "execution_count": 8,
   "metadata": {},
   "outputs": [
    {
     "data": {
      "text/plain": [
       "sum_multi_thread (generic function with 1 method)"
      ]
     },
     "execution_count": 8,
     "metadata": {},
     "output_type": "execute_result"
    }
   ],
   "source": [
    "function sum_multi_thread(samples, tmax, lx, ly)\n",
    "    chunks = Iterators.partition(1:samples, samples ÷ Threads.nthreads())\n",
    "    tasks = map(chunks) do chunk\n",
    "        Threads.@spawn with_threads(chunk,tmax,lx, ly)\n",
    "    end\n",
    "    chunk_sums = fetch.(tasks)\n",
    "    return sum(chunk_sums)\n",
    "end"
   ]
  },
  {
   "cell_type": "code",
   "execution_count": null,
   "metadata": {},
   "outputs": [],
   "source": []
  },
  {
   "cell_type": "code",
   "execution_count": 9,
   "metadata": {},
   "outputs": [
    {
     "data": {
      "text/plain": [
       "(100, 20)"
      ]
     },
     "execution_count": 9,
     "metadata": {},
     "output_type": "execute_result"
    }
   ],
   "source": [
    "Lx, Ly = 100,20"
   ]
  },
  {
   "cell_type": "code",
   "execution_count": 10,
   "metadata": {},
   "outputs": [
    {
     "data": {
      "text/plain": [
       "400"
      ]
     },
     "execution_count": 10,
     "metadata": {},
     "output_type": "execute_result"
    }
   ],
   "source": [
    "samples = 100000\n",
    "tmax = 400"
   ]
  },
  {
   "cell_type": "code",
   "execution_count": 11,
   "metadata": {},
   "outputs": [],
   "source": [
    "y = sum_multi_thread(samples, tmax, Lx, Ly)"
   ]
  },
  {
   "cell_type": "code",
   "execution_count": null,
   "metadata": {},
   "outputs": [],
   "source": [
    "heatmap(y[:,:,1]/samples)"
   ]
  },
  {
   "cell_type": "code",
   "execution_count": null,
   "metadata": {},
   "outputs": [],
   "source": [
    "heatmap(y[:,:,200]/samples)"
   ]
  },
  {
   "cell_type": "code",
   "execution_count": null,
   "metadata": {},
   "outputs": [],
   "source": [
    "heatmap(y[:,:,400]/samples)"
   ]
  },
  {
   "cell_type": "code",
   "execution_count": null,
   "metadata": {},
   "outputs": [],
   "source": []
  },
  {
   "cell_type": "code",
   "execution_count": null,
   "metadata": {},
   "outputs": [],
   "source": [
    "n0 = 0.5\n",
    "Ax, Ay = 0.1, 0.1\n",
    "qx, qy = convert(Int,floor(Lx/10)), convert(Int,floor(Ly/5))\n",
    "freq_x, freq_y = 2π * rfftfreq(Lx), 2π * rfftfreq(Ly)\n",
    "Qx, Qy = freq_x[qx], freq_y[qy]\n",
    "A_x, A_y = cos.(Qx * (1:Lx)), cos.(Qy * (1:Ly))\n",
    "rho_in = @. n0 + Ax * A_x + Ay *A_y'"
   ]
  },
  {
   "cell_type": "code",
   "execution_count": null,
   "metadata": {},
   "outputs": [],
   "source": []
  },
  {
   "cell_type": "code",
   "execution_count": null,
   "metadata": {},
   "outputs": [],
   "source": [
    "m_rho_ft = rfft(y, [1,2])/(Lx*Ly)/samples"
   ]
  },
  {
   "cell_type": "code",
   "execution_count": null,
   "metadata": {},
   "outputs": [],
   "source": [
    "plot(abs.(m_rho_ft)[qx,1,:])\n",
    "plot!(abs.(m_rho_ft)[1,qy,:])\n",
    "plot!(abs.(m_rho_ft)[qx,qy,:])\n",
    "plot!(abs.(m_rho_ft)[3,4,:])"
   ]
  },
  {
   "cell_type": "code",
   "execution_count": null,
   "metadata": {},
   "outputs": [],
   "source": [
    "plot(abs.(m_rho_ft)[qx,qy,:])\n",
    "plot!(abs.(m_rho_ft)[3,4,:])"
   ]
  },
  {
   "cell_type": "code",
   "execution_count": null,
   "metadata": {},
   "outputs": [],
   "source": [
    "D = 0.07"
   ]
  },
  {
   "cell_type": "code",
   "execution_count": null,
   "metadata": {},
   "outputs": [],
   "source": [
    "plot(log.(abs.(m_rho_ft[qx,1,:])/abs.(m_rho_ft)[qx,1,1]))\n",
    "plot!(log.(abs.(m_rho_ft[1,qy,:])/abs.(m_rho_ft)[1,qy,1]))\n",
    "#plot!(-D*Qx^2*(0:10), c=:black,linestyle=:dash, label = L\"D = 0.04\")\n",
    "#plot!(-D*Qy^2*(0:10), c=:black,linestyle=:dash, label = L\"D = 0.04\")\n",
    "#plot!((10:200),-sqrt.(D*Qx^2*(10:200)), c=:black,linestyle=:dash, label = L\"slope = 4\")\n",
    "#plot!((10:400),-sqrt.(D*Qy^2*(10:400)).+0.6, c=:black,linestyle=:dash, label = L\"slope = 4\")"
   ]
  },
  {
   "cell_type": "code",
   "execution_count": null,
   "metadata": {},
   "outputs": [],
   "source": [
    "plot(sqrt.(0:200),log.(abs.(m_rho_ft[qx,1,:])/abs.(m_rho_ft)[qx,1,1]))\n",
    "plot!(sqrt.(0:200),log.(abs.(m_rho_ft[1,qy,:])/abs.(m_rho_ft)[1,qy,1]))"
   ]
  },
  {
   "cell_type": "code",
   "execution_count": null,
   "metadata": {},
   "outputs": [],
   "source": []
  },
  {
   "cell_type": "code",
   "execution_count": null,
   "metadata": {},
   "outputs": [],
   "source": []
  },
  {
   "cell_type": "code",
   "execution_count": null,
   "metadata": {},
   "outputs": [],
   "source": []
  },
  {
   "cell_type": "code",
   "execution_count": null,
   "metadata": {},
   "outputs": [],
   "source": []
  },
  {
   "cell_type": "code",
   "execution_count": null,
   "metadata": {},
   "outputs": [],
   "source": [
    "h5open(\"../data/2D_Q10-5_mode_n0-0.5_-($samples)_tmax-($tmax)_lx-($Lx)_ly-($Ly).h5\", \"w\") do file\n",
    "    write(file, \"m_rho\", y)\n",
    "end"
   ]
  },
  {
   "cell_type": "code",
   "execution_count": null,
   "metadata": {},
   "outputs": [],
   "source": []
  },
  {
   "cell_type": "code",
   "execution_count": null,
   "metadata": {},
   "outputs": [],
   "source": [
    "y = h5open(\"../data/2D_Q10-5_mode_n0-0.5_-(100000)_tmax-(400)_lx-(100)_ly-(20).h5\", \"r\") do file\n",
    "    read(file, \"m_rho\")\n",
    "end"
   ]
  },
  {
   "cell_type": "code",
   "execution_count": null,
   "metadata": {},
   "outputs": [],
   "source": []
  },
  {
   "cell_type": "code",
   "execution_count": null,
   "metadata": {},
   "outputs": [],
   "source": []
  },
  {
   "cell_type": "code",
   "execution_count": null,
   "metadata": {},
   "outputs": [],
   "source": [
    "map(tetra_update, partition())"
   ]
  },
  {
   "cell_type": "code",
   "execution_count": null,
   "metadata": {},
   "outputs": [],
   "source": []
  },
  {
   "cell_type": "code",
   "execution_count": null,
   "metadata": {},
   "outputs": [],
   "source": []
  },
  {
   "cell_type": "code",
   "execution_count": null,
   "metadata": {},
   "outputs": [],
   "source": []
  },
  {
   "cell_type": "code",
   "execution_count": null,
   "metadata": {},
   "outputs": [],
   "source": []
  }
 ],
 "metadata": {
  "kernelspec": {
   "display_name": "Julia 1.10.0",
   "language": "julia",
   "name": "julia-1.10"
  },
  "language_info": {
   "file_extension": ".jl",
   "mimetype": "application/julia",
   "name": "julia",
   "version": "1.10.0"
  }
 },
 "nbformat": 4,
 "nbformat_minor": 2
}
